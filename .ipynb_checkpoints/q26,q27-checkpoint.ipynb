{
 "cells": [
  {
   "cell_type": "markdown",
   "id": "2be71ac2",
   "metadata": {},
   "source": [
    "Problem Statement 26: \n",
    "\n",
    "\n",
    "\n",
    "New hospitals are under construction* in different locations, and once they are constructed the data in the database is to be updated. Also, when some hospitals non-operational hospital might be removed. Since the data is quite significant there should be a hospital_log table that would store any changes made to the hospital or government_hospital table.\n",
    "The hospital_log table should contain the name of the district, whether the hospital is situated in urban or rural area, whether the hospital is being added or being removed, date of adding or removing the hospital to/from the existing facilities, and whether it is government hospital or not. The a row in the table must be added automatically whenever a new hospital is added, or an existing hospital is removed. \n"
   ]
  },
  {
   "cell_type": "code",
   "execution_count": 1,
   "id": "32bd4723",
   "metadata": {},
   "outputs": [],
   "source": [
    "import pymysql\n",
    "import pandas as pd"
   ]
  },
  {
   "cell_type": "code",
   "execution_count": 2,
   "id": "d8ead859",
   "metadata": {},
   "outputs": [],
   "source": [
    "conn=pymysql.connect(\n",
    "    host='localhost',\n",
    "    user='root',\n",
    "    password='Admin@123',\n",
    "    db='pythonprojectdb2')"
   ]
  },
  {
   "cell_type": "code",
   "execution_count": 3,
   "id": "84256a92",
   "metadata": {},
   "outputs": [],
   "source": [
    "cursor=conn.cursor()"
   ]
  },
  {
   "cell_type": "code",
   "execution_count": 4,
   "id": "0500be10",
   "metadata": {},
   "outputs": [],
   "source": [
    "#creating hospital log table"
   ]
  },
  {
   "cell_type": "code",
   "execution_count": 23,
   "id": "b7d60a7f",
   "metadata": {},
   "outputs": [],
   "source": [
    "query=\"\"\"\n",
    "CREATE TABLE IF NOT EXISTS hospital_log (\n",
    "    log_id INT AUTO_INCREMENT PRIMARY KEY,\n",
    "    state_name VARCHAR(50) NOT NULL,\n",
    "    area_type VARCHAR(10) NOT NULL,\n",
    "    action_type ENUM('Added', 'Removed') NOT NULL,\n",
    "    action_date TIMESTAMP DEFAULT CURRENT_TIMESTAMP,\n",
    "    is_government ENUM('No', 'Yes') NOT NULL\n",
    ");\n",
    "\"\"\""
   ]
  },
  {
   "cell_type": "code",
   "execution_count": 24,
   "id": "6366e231",
   "metadata": {},
   "outputs": [
    {
     "data": {
      "text/plain": [
       "0"
      ]
     },
     "execution_count": 24,
     "metadata": {},
     "output_type": "execute_result"
    }
   ],
   "source": [
    "cursor.execute(query)"
   ]
  },
  {
   "cell_type": "code",
   "execution_count": 7,
   "id": "52f2d075",
   "metadata": {},
   "outputs": [],
   "source": [
    "#creating trigger hospital trigger"
   ]
  },
  {
   "cell_type": "code",
   "execution_count": 18,
   "id": "a7cf770f",
   "metadata": {},
   "outputs": [],
   "source": [
    "query=\"\"\"\n",
    "CREATE TRIGGER if not exists hospital_trigger\n",
    "AFTER UPDATE ON government_hospitals\n",
    "    FOR EACH ROW\n",
    "BEGIN\n",
    "IF NEW.Rural_Government_Hospitals != OLD.Rural_Government_Hospitals AND NEW.Rural_Government_Hospitals > OLD.Rural_Government_Hospitals THEN\n",
    "    INSERT INTO hospital_log (state_name,\n",
    "    area_type,\n",
    "    action_type ,\n",
    "    is_government)\n",
    "    VALUES (old.StateorUT,'Rural','Added','Yes');\n",
    "END IF;\n",
    "IF NEW.Rural_Government_Hospitals != OLD.Rural_Government_Hospitals AND NEW.Rural_Government_Hospitals < OLD.Rural_Government_Hospitals THEN\n",
    "    INSERT INTO hospital_log (state_name,\n",
    "    area_type,\n",
    "    action_type ,\n",
    "    is_government)\n",
    "    VALUES (old.StateorUT,'Rural','Removed','Yes');\n",
    "END IF;\n",
    "IF NEW.Urban_Government_Hospitals != OLD.Urban_Government_Hospitals AND NEW.Urban_Government_Hospitals > OLD.Urban_Government_Hospitals THEN\n",
    "    INSERT INTO hospital_log (state_name,\n",
    "    area_type,\n",
    "    action_type ,\n",
    "    is_government)\n",
    "    VALUES (old.StateorUT,'Urban','Added','Yes');\n",
    "END IF;\n",
    "IF NEW.Urban_Government_Hospitals != OLD.Urban_Government_Hospitals AND NEW.Urban_Government_Hospitals < OLD.Urban_Government_Hospitals THEN\n",
    "    INSERT INTO hospital_log (state_name,\n",
    "    area_type,\n",
    "    action_type ,\n",
    "    is_government)\n",
    "    VALUES (old.StateorUT,'Urban','Removed','Yes');\n",
    "END IF;\n",
    "END;\n",
    "\"\"\""
   ]
  },
  {
   "cell_type": "code",
   "execution_count": 19,
   "id": "10d6b24d",
   "metadata": {},
   "outputs": [
    {
     "data": {
      "text/plain": [
       "0"
      ]
     },
     "execution_count": 19,
     "metadata": {},
     "output_type": "execute_result"
    }
   ],
   "source": [
    "cursor.execute(query)"
   ]
  },
  {
   "cell_type": "code",
   "execution_count": 25,
   "id": "0cb84820",
   "metadata": {},
   "outputs": [
    {
     "data": {
      "text/plain": [
       "1"
      ]
     },
     "execution_count": 25,
     "metadata": {},
     "output_type": "execute_result"
    }
   ],
   "source": [
    "query3=\"\"\"update government_hospitals set Rural_Government_Hospitals=Rural_Government_Hospitals+1 where Sno=33;\"\"\" \n",
    "cursor.execute(query3)"
   ]
  },
  {
   "cell_type": "code",
   "execution_count": 26,
   "id": "4f8dce93",
   "metadata": {},
   "outputs": [],
   "source": [
    "query=\"\"\"select * from hospital_log\"\"\""
   ]
  },
  {
   "cell_type": "code",
   "execution_count": 27,
   "id": "c493d0df",
   "metadata": {},
   "outputs": [
    {
     "data": {
      "text/plain": [
       "6"
      ]
     },
     "execution_count": 27,
     "metadata": {},
     "output_type": "execute_result"
    }
   ],
   "source": [
    "cursor.execute(query)"
   ]
  },
  {
   "cell_type": "code",
   "execution_count": 28,
   "id": "6bb883d2",
   "metadata": {},
   "outputs": [],
   "source": [
    "k=cursor.fetchall()"
   ]
  },
  {
   "cell_type": "code",
   "execution_count": 31,
   "id": "351c455e",
   "metadata": {},
   "outputs": [
    {
     "data": {
      "text/html": [
       "<div>\n",
       "<style scoped>\n",
       "    .dataframe tbody tr th:only-of-type {\n",
       "        vertical-align: middle;\n",
       "    }\n",
       "\n",
       "    .dataframe tbody tr th {\n",
       "        vertical-align: top;\n",
       "    }\n",
       "\n",
       "    .dataframe thead th {\n",
       "        text-align: right;\n",
       "    }\n",
       "</style>\n",
       "<table border=\"1\" class=\"dataframe\">\n",
       "  <thead>\n",
       "    <tr style=\"text-align: right;\">\n",
       "      <th></th>\n",
       "      <th>0</th>\n",
       "      <th>1</th>\n",
       "      <th>2</th>\n",
       "      <th>3</th>\n",
       "      <th>4</th>\n",
       "      <th>5</th>\n",
       "    </tr>\n",
       "  </thead>\n",
       "  <tbody>\n",
       "    <tr>\n",
       "      <th>0</th>\n",
       "      <td>1</td>\n",
       "      <td>Andhra Pradesh</td>\n",
       "      <td>Rural</td>\n",
       "      <td>Added</td>\n",
       "      <td>2023-03-13 19:15:42</td>\n",
       "      <td>Yes</td>\n",
       "    </tr>\n",
       "    <tr>\n",
       "      <th>1</th>\n",
       "      <td>2</td>\n",
       "      <td>Daman and Diu</td>\n",
       "      <td>Rural</td>\n",
       "      <td>Added</td>\n",
       "      <td>2023-03-13 19:55:48</td>\n",
       "      <td>Yes</td>\n",
       "    </tr>\n",
       "    <tr>\n",
       "      <th>2</th>\n",
       "      <td>3</td>\n",
       "      <td>Daman and Diu</td>\n",
       "      <td>Urban</td>\n",
       "      <td>Added</td>\n",
       "      <td>2023-03-13 19:56:19</td>\n",
       "      <td>Yes</td>\n",
       "    </tr>\n",
       "    <tr>\n",
       "      <th>3</th>\n",
       "      <td>4</td>\n",
       "      <td>Daman and Diu</td>\n",
       "      <td>Urban</td>\n",
       "      <td>Removed</td>\n",
       "      <td>2023-03-13 20:11:26</td>\n",
       "      <td>Yes</td>\n",
       "    </tr>\n",
       "    <tr>\n",
       "      <th>4</th>\n",
       "      <td>5</td>\n",
       "      <td>Daman and Diu</td>\n",
       "      <td>Rural</td>\n",
       "      <td>Added</td>\n",
       "      <td>2023-03-13 20:28:44</td>\n",
       "      <td>Yes</td>\n",
       "    </tr>\n",
       "    <tr>\n",
       "      <th>5</th>\n",
       "      <td>6</td>\n",
       "      <td>Daman and Diu</td>\n",
       "      <td>Rural</td>\n",
       "      <td>Added</td>\n",
       "      <td>2023-03-15 10:48:31</td>\n",
       "      <td>Yes</td>\n",
       "    </tr>\n",
       "  </tbody>\n",
       "</table>\n",
       "</div>"
      ],
      "text/plain": [
       "   0               1      2        3                   4    5\n",
       "0  1  Andhra Pradesh  Rural    Added 2023-03-13 19:15:42  Yes\n",
       "1  2   Daman and Diu  Rural    Added 2023-03-13 19:55:48  Yes\n",
       "2  3   Daman and Diu  Urban    Added 2023-03-13 19:56:19  Yes\n",
       "3  4   Daman and Diu  Urban  Removed 2023-03-13 20:11:26  Yes\n",
       "4  5   Daman and Diu  Rural    Added 2023-03-13 20:28:44  Yes\n",
       "5  6   Daman and Diu  Rural    Added 2023-03-15 10:48:31  Yes"
      ]
     },
     "execution_count": 31,
     "metadata": {},
     "output_type": "execute_result"
    }
   ],
   "source": [
    "df=pd.DataFrame(k)\n",
    "df"
   ]
  },
  {
   "cell_type": "code",
   "execution_count": 34,
   "id": "4f2fc0f2",
   "metadata": {},
   "outputs": [],
   "source": [
    "query4=\"\"\"\n",
    "CREATE TRIGGER IF NOT EXISTS hospital_trigger2\n",
    "AFTER UPDATE ON hospitals\n",
    "    FOR EACH ROW\n",
    "BEGIN\n",
    "IF (NEW.Number_of_Primary_Health_Centers != OLD.Number_of_Primary_Health_Centers or NEW.Community_Health_Centers != OLD.Community_Health_Centers ) AND (NEW.Community_Health_Centers > OLD.Community_Health_Centers or NEW.Number_of_Primary_Health_Centers > OLD.Number_of_Primary_Health_Centers )THEN\n",
    "    INSERT INTO hospital_log (state_name,\n",
    "    area_type,\n",
    "    action_type ,\n",
    "    is_government)\n",
    "    VALUES (old.StateorUT,'Rural','Added','Yes');\n",
    "END IF;\n",
    "IF (NEW.Number_of_Primary_Health_Centers != OLD.Number_of_Primary_Health_Centers or NEW.Community_Health_Centers != OLD.Community_Health_Centers ) AND (NEW.Community_Health_Centers < OLD.Community_Health_Centers or NEW.Number_of_Primary_Health_Centers < OLD.Number_of_Primary_Health_Centers )THEN\n",
    "    INSERT INTO hospital_log (state_name,\n",
    "    area_type,\n",
    "    action_type ,\n",
    "    is_government)\n",
    "    VALUES (old.StateorUT,'Rural','Removed','Yes');\n",
    "END IF;\n",
    "\n",
    "IF (NEW.Sub_DistrictorDivisional_Hospitals != OLD.Sub_DistrictorDivisional_Hospitals or NEW.District_Hospitals != OLD.District_Hospitals ) AND (NEW.Sub_DistrictorDivisional_Hospitals > OLD.Sub_DistrictorDivisional_Hospitals or NEW.District_Hospitals > OLD.District_Hospitals )THEN\n",
    "    INSERT INTO hospital_log (state_name,\n",
    "    area_type,\n",
    "    action_type ,\n",
    "    is_government)\n",
    "    VALUES (old.StateorUT,'Urban','Added','Yes');\n",
    "END IF;\n",
    "\n",
    "IF (NEW.Sub_DistrictorDivisional_Hospitals != OLD.Sub_DistrictorDivisional_Hospitals or NEW.District_Hospitals != OLD.District_Hospitals ) AND (NEW.Sub_DistrictorDivisional_Hospitals < OLD.Sub_DistrictorDivisional_Hospitals or NEW.District_Hospitals < OLD.District_Hospitals )THEN\n",
    "    INSERT INTO hospital_log (state_name,\n",
    "    area_type,\n",
    "    action_type ,\n",
    "    is_government)\n",
    "    VALUES (old.StateorUT,'Urban','Removed','Yes');\n",
    "END IF;\n",
    "\n",
    "END;\n",
    "\"\"\""
   ]
  },
  {
   "cell_type": "code",
   "execution_count": 35,
   "id": "0152a4ea",
   "metadata": {},
   "outputs": [
    {
     "data": {
      "text/plain": [
       "0"
      ]
     },
     "execution_count": 35,
     "metadata": {},
     "output_type": "execute_result"
    }
   ],
   "source": [
    "cursor.execute(query4)"
   ]
  },
  {
   "cell_type": "code",
   "execution_count": 36,
   "id": "1196ca76",
   "metadata": {},
   "outputs": [],
   "source": [
    "query5=\"\"\"update hospitals set Number_of_Primary_Health_Centers = Number_of_Primary_Health_Centers+1 where sno=1;\"\"\""
   ]
  },
  {
   "cell_type": "code",
   "execution_count": 37,
   "id": "640ea282",
   "metadata": {},
   "outputs": [
    {
     "data": {
      "text/plain": [
       "1"
      ]
     },
     "execution_count": 37,
     "metadata": {},
     "output_type": "execute_result"
    }
   ],
   "source": [
    "cursor.execute(query5)"
   ]
  },
  {
   "cell_type": "code",
   "execution_count": 65,
   "id": "be7183aa",
   "metadata": {},
   "outputs": [],
   "source": [
    "query=\"\"\"select * from hospital_log\"\"\""
   ]
  },
  {
   "cell_type": "code",
   "execution_count": 66,
   "id": "6014d57b",
   "metadata": {},
   "outputs": [
    {
     "data": {
      "text/plain": [
       "7"
      ]
     },
     "execution_count": 66,
     "metadata": {},
     "output_type": "execute_result"
    }
   ],
   "source": [
    "cursor.execute(query)"
   ]
  },
  {
   "cell_type": "code",
   "execution_count": 67,
   "id": "62bbaf98",
   "metadata": {},
   "outputs": [
    {
     "data": {
      "text/html": [
       "<div>\n",
       "<style scoped>\n",
       "    .dataframe tbody tr th:only-of-type {\n",
       "        vertical-align: middle;\n",
       "    }\n",
       "\n",
       "    .dataframe tbody tr th {\n",
       "        vertical-align: top;\n",
       "    }\n",
       "\n",
       "    .dataframe thead th {\n",
       "        text-align: right;\n",
       "    }\n",
       "</style>\n",
       "<table border=\"1\" class=\"dataframe\">\n",
       "  <thead>\n",
       "    <tr style=\"text-align: right;\">\n",
       "      <th></th>\n",
       "      <th>id</th>\n",
       "      <th>State</th>\n",
       "      <th>Rural/Urban</th>\n",
       "      <th>action_type</th>\n",
       "      <th>Time_of_update</th>\n",
       "      <th>Government Hospital_or_not</th>\n",
       "    </tr>\n",
       "  </thead>\n",
       "  <tbody>\n",
       "    <tr>\n",
       "      <th>0</th>\n",
       "      <td>1</td>\n",
       "      <td>Andhra Pradesh</td>\n",
       "      <td>Rural</td>\n",
       "      <td>Added</td>\n",
       "      <td>2023-03-13 19:15:42</td>\n",
       "      <td>Yes</td>\n",
       "    </tr>\n",
       "    <tr>\n",
       "      <th>1</th>\n",
       "      <td>2</td>\n",
       "      <td>Daman and Diu</td>\n",
       "      <td>Rural</td>\n",
       "      <td>Added</td>\n",
       "      <td>2023-03-13 19:55:48</td>\n",
       "      <td>Yes</td>\n",
       "    </tr>\n",
       "    <tr>\n",
       "      <th>2</th>\n",
       "      <td>3</td>\n",
       "      <td>Daman and Diu</td>\n",
       "      <td>Urban</td>\n",
       "      <td>Added</td>\n",
       "      <td>2023-03-13 19:56:19</td>\n",
       "      <td>Yes</td>\n",
       "    </tr>\n",
       "    <tr>\n",
       "      <th>3</th>\n",
       "      <td>4</td>\n",
       "      <td>Daman and Diu</td>\n",
       "      <td>Urban</td>\n",
       "      <td>Removed</td>\n",
       "      <td>2023-03-13 20:11:26</td>\n",
       "      <td>Yes</td>\n",
       "    </tr>\n",
       "    <tr>\n",
       "      <th>4</th>\n",
       "      <td>5</td>\n",
       "      <td>Daman and Diu</td>\n",
       "      <td>Rural</td>\n",
       "      <td>Added</td>\n",
       "      <td>2023-03-13 20:28:44</td>\n",
       "      <td>Yes</td>\n",
       "    </tr>\n",
       "    <tr>\n",
       "      <th>5</th>\n",
       "      <td>6</td>\n",
       "      <td>Daman and Diu</td>\n",
       "      <td>Rural</td>\n",
       "      <td>Added</td>\n",
       "      <td>2023-03-15 10:48:31</td>\n",
       "      <td>Yes</td>\n",
       "    </tr>\n",
       "    <tr>\n",
       "      <th>6</th>\n",
       "      <td>7</td>\n",
       "      <td>Daman and Diu</td>\n",
       "      <td>Rural</td>\n",
       "      <td>Added</td>\n",
       "      <td>2023-03-15 10:53:10</td>\n",
       "      <td>Yes</td>\n",
       "    </tr>\n",
       "  </tbody>\n",
       "</table>\n",
       "</div>"
      ],
      "text/plain": [
       "   id           State Rural/Urban action_type      Time_of_update  \\\n",
       "0   1  Andhra Pradesh       Rural       Added 2023-03-13 19:15:42   \n",
       "1   2   Daman and Diu       Rural       Added 2023-03-13 19:55:48   \n",
       "2   3   Daman and Diu       Urban       Added 2023-03-13 19:56:19   \n",
       "3   4   Daman and Diu       Urban     Removed 2023-03-13 20:11:26   \n",
       "4   5   Daman and Diu       Rural       Added 2023-03-13 20:28:44   \n",
       "5   6   Daman and Diu       Rural       Added 2023-03-15 10:48:31   \n",
       "6   7   Daman and Diu       Rural       Added 2023-03-15 10:53:10   \n",
       "\n",
       "  Government Hospital_or_not  \n",
       "0                        Yes  \n",
       "1                        Yes  \n",
       "2                        Yes  \n",
       "3                        Yes  \n",
       "4                        Yes  \n",
       "5                        Yes  \n",
       "6                        Yes  "
      ]
     },
     "execution_count": 67,
     "metadata": {},
     "output_type": "execute_result"
    }
   ],
   "source": [
    "k=cursor.fetchall()\n",
    "df=pd.DataFrame(k,columns=['id','State','Rural/Urban','action_type','Time_of_update','Government Hospital_or_not'])\n",
    "df"
   ]
  },
  {
   "cell_type": "markdown",
   "id": "39f1a37e",
   "metadata": {},
   "source": [
    "**q27 New hospital beds are to be added in different government and private hospitals in different locations, and some non-operational hospital beds might be removed from hospitals. Since the data is quite significant there should be a hospital_bed_log table that would store any changes made to the hospital or government_hospital table with respect to number of hospital beds.\n",
    "The hospital_bed_log table should contain the name of the district, whether the hospital is situated in urban or rural area, date of adding or removing hospital beds, the number of beds being added or removed, whether it is being added or removed and whether it is added to/removed from government hospital or not. The table must be updated automatically whenever new hospital beds are added to or removed from the existing facility.**\n"
   ]
  },
  {
   "cell_type": "code",
   "execution_count": 41,
   "id": "87b2afd9",
   "metadata": {},
   "outputs": [],
   "source": [
    "query=\"\"\"CREATE TABLE IF NOT EXISTS hospital_bed_log (\n",
    "    log_id INT AUTO_INCREMENT PRIMARY KEY,\n",
    "    state_name VARCHAR(50) NOT NULL,\n",
    "    area_type VARCHAR(10) NOT NULL,\n",
    "    action_type ENUM('Added', 'Removed') NOT NULL,\n",
    "    action_date TIMESTAMP DEFAULT CURRENT_TIMESTAMP,\n",
    "    is_government ENUM('No', 'Yes') NOT NULL\n",
    ");\n",
    "\"\"\""
   ]
  },
  {
   "cell_type": "code",
   "execution_count": 43,
   "id": "9a075027",
   "metadata": {},
   "outputs": [
    {
     "data": {
      "text/plain": [
       "0"
      ]
     },
     "execution_count": 43,
     "metadata": {},
     "output_type": "execute_result"
    }
   ],
   "source": [
    "cursor.execute(query)"
   ]
  },
  {
   "cell_type": "code",
   "execution_count": 44,
   "id": "e49e6340",
   "metadata": {},
   "outputs": [],
   "source": [
    "query1=\"\"\"CREATE TRIGGER IF NOT EXISTS hospital_bed_trigger\n",
    "AFTER UPDATE ON government_hospitals\n",
    "    FOR EACH ROW\n",
    "BEGIN\n",
    "IF NEW.Rural_Government_Beds != OLD.Rural_Government_Beds AND NEW.Rural_Government_Beds > OLD.Rural_Government_Beds THEN\n",
    "    INSERT INTO hospital_bed_log (state_name,\n",
    "    area_type,\n",
    "    action_type ,\n",
    "    is_government)\n",
    "    VALUES (old.StateorUT,'Rural','Added','Yes');\n",
    "END IF;\n",
    "IF NEW.Rural_Government_Beds != OLD.Rural_Government_Beds AND NEW.Rural_Government_Beds < OLD.Rural_Government_Beds THEN\n",
    "    INSERT INTO hospital_bed_log (state_name,\n",
    "    area_type,\n",
    "    action_type ,\n",
    "    is_government)\n",
    "    VALUES (old.StateorUT,'Rural','Removed','Yes');\n",
    "END IF;\n",
    "IF NEW.Urban_Government_Hospitals != OLD.Urban_Government_Beds AND NEW.Urban_Government_Beds > OLD.Urban_Government_Beds THEN\n",
    "    INSERT INTO hospital_bed_log (state_name,\n",
    "    area_type,\n",
    "    action_type ,\n",
    "    is_government)\n",
    "    VALUES (old.StateorUT,'Urban','Added','Yes');\n",
    "END IF;\n",
    "IF NEW.Urban_Government_Beds != OLD.Urban_Government_Beds AND NEW.Urban_Government_Beds < OLD.Urban_Government_Beds THEN\n",
    "    INSERT INTO hospital_bed_log (state_name,\n",
    "    area_type,\n",
    "    action_type ,\n",
    "    is_government)\n",
    "    VALUES (old.StateorUT,'Urban','Removed','Yes');\n",
    "END IF;\n",
    "END\"\"\""
   ]
  },
  {
   "cell_type": "code",
   "execution_count": 45,
   "id": "4b1510e0",
   "metadata": {},
   "outputs": [
    {
     "data": {
      "text/plain": [
       "0"
      ]
     },
     "execution_count": 45,
     "metadata": {},
     "output_type": "execute_result"
    }
   ],
   "source": [
    "cursor.execute(query1)"
   ]
  },
  {
   "cell_type": "code",
   "execution_count": 54,
   "id": "06732d60",
   "metadata": {},
   "outputs": [],
   "source": [
    "query3=\"\"\"update government_hospitals set Urban_Government_beds=Urban_Government_beds+1 where Sno=33; \"\"\""
   ]
  },
  {
   "cell_type": "code",
   "execution_count": 55,
   "id": "6d43eba0",
   "metadata": {},
   "outputs": [
    {
     "data": {
      "text/plain": [
       "1"
      ]
     },
     "execution_count": 55,
     "metadata": {},
     "output_type": "execute_result"
    }
   ],
   "source": [
    "cursor.execute(query3)"
   ]
  },
  {
   "cell_type": "code",
   "execution_count": 56,
   "id": "e00c82b2",
   "metadata": {},
   "outputs": [],
   "source": [
    "query=\"\"\"select * from hospital_bed_log\"\"\""
   ]
  },
  {
   "cell_type": "code",
   "execution_count": 57,
   "id": "02f055af",
   "metadata": {},
   "outputs": [
    {
     "data": {
      "text/plain": [
       "1"
      ]
     },
     "execution_count": 57,
     "metadata": {},
     "output_type": "execute_result"
    }
   ],
   "source": [
    "cursor.execute(query)"
   ]
  },
  {
   "cell_type": "code",
   "execution_count": 58,
   "id": "26e0bae4",
   "metadata": {},
   "outputs": [],
   "source": [
    "x=cursor.fetchall()"
   ]
  },
  {
   "cell_type": "code",
   "execution_count": 62,
   "id": "1a12dff7",
   "metadata": {},
   "outputs": [],
   "source": [
    "df=pd.DataFrame(x,columns=['id','State','Rural/Urban','action_type','Time_of_update','Government Hospital_or_not'])"
   ]
  },
  {
   "cell_type": "code",
   "execution_count": 63,
   "id": "bba82520",
   "metadata": {},
   "outputs": [
    {
     "data": {
      "text/html": [
       "<div>\n",
       "<style scoped>\n",
       "    .dataframe tbody tr th:only-of-type {\n",
       "        vertical-align: middle;\n",
       "    }\n",
       "\n",
       "    .dataframe tbody tr th {\n",
       "        vertical-align: top;\n",
       "    }\n",
       "\n",
       "    .dataframe thead th {\n",
       "        text-align: right;\n",
       "    }\n",
       "</style>\n",
       "<table border=\"1\" class=\"dataframe\">\n",
       "  <thead>\n",
       "    <tr style=\"text-align: right;\">\n",
       "      <th></th>\n",
       "      <th>id</th>\n",
       "      <th>State</th>\n",
       "      <th>Rural/Urban</th>\n",
       "      <th>action_type</th>\n",
       "      <th>Time_of_update</th>\n",
       "      <th>Government Hospital_or_not</th>\n",
       "    </tr>\n",
       "  </thead>\n",
       "  <tbody>\n",
       "    <tr>\n",
       "      <th>0</th>\n",
       "      <td>1</td>\n",
       "      <td>Daman and Diu</td>\n",
       "      <td>Urban</td>\n",
       "      <td>Added</td>\n",
       "      <td>2023-03-15 11:04:00</td>\n",
       "      <td>Yes</td>\n",
       "    </tr>\n",
       "  </tbody>\n",
       "</table>\n",
       "</div>"
      ],
      "text/plain": [
       "   id          State Rural/Urban action_type      Time_of_update  \\\n",
       "0   1  Daman and Diu       Urban       Added 2023-03-15 11:04:00   \n",
       "\n",
       "  Government Hospital_or_not  \n",
       "0                        Yes  "
      ]
     },
     "execution_count": 63,
     "metadata": {},
     "output_type": "execute_result"
    }
   ],
   "source": [
    "df"
   ]
  },
  {
   "cell_type": "code",
   "execution_count": null,
   "id": "359ae6ac",
   "metadata": {},
   "outputs": [],
   "source": []
  }
 ],
 "metadata": {
  "kernelspec": {
   "display_name": "Python 3 (ipykernel)",
   "language": "python",
   "name": "python3"
  },
  "language_info": {
   "codemirror_mode": {
    "name": "ipython",
    "version": 3
   },
   "file_extension": ".py",
   "mimetype": "text/x-python",
   "name": "python",
   "nbconvert_exporter": "python",
   "pygments_lexer": "ipython3",
   "version": "3.11.1"
  }
 },
 "nbformat": 4,
 "nbformat_minor": 5
}
