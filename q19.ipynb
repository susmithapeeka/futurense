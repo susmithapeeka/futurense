{
 "cells": [
  {
   "cell_type": "code",
   "execution_count": 12,
   "id": "84b1fd75",
   "metadata": {},
   "outputs": [],
   "source": [
    "import pymysql\n",
    "import pandas as pd"
   ]
  },
  {
   "cell_type": "code",
   "execution_count": 2,
   "id": "0deaa0a2",
   "metadata": {},
   "outputs": [],
   "source": [
    "conn = pymysql.connect(\n",
    "    host='localhost',\n",
    "    user='root',\n",
    "    password='Admin@123',\n",
    "    db='python_project1'\n",
    ")"
   ]
  },
  {
   "cell_type": "code",
   "execution_count": 3,
   "id": "90c3834c",
   "metadata": {},
   "outputs": [],
   "source": [
    "cursor=conn.cursor()"
   ]
  },
  {
   "cell_type": "code",
   "execution_count": 5,
   "id": "de12c6a5",
   "metadata": {},
   "outputs": [
    {
     "data": {
      "text/plain": [
       "3"
      ]
     },
     "execution_count": 5,
     "metadata": {},
     "output_type": "execute_result"
    }
   ],
   "source": [
    "cursor.execute('''\n",
    "select * from census c\n",
    "join housing h using (Stateorut,District)\n",
    "join government_hospitals gh using (StateorUT)\n",
    "join hospitals ah using (StateorUT)\n",
    "order by c.StateorUT,District limit 3;\n",
    "''')"
   ]
  },
  {
   "cell_type": "code",
   "execution_count": 6,
   "id": "892c86ea",
   "metadata": {},
   "outputs": [],
   "source": [
    "s=cursor.fetchall()"
   ]
  },
  {
   "cell_type": "code",
   "execution_count": 13,
   "id": "b8c6ac20",
   "metadata": {},
   "outputs": [],
   "source": [
    "data=pd.DataFrame(s)"
   ]
  },
  {
   "cell_type": "code",
   "execution_count": 14,
   "id": "f11169ec",
   "metadata": {},
   "outputs": [
    {
     "data": {
      "text/html": [
       "<div>\n",
       "<style scoped>\n",
       "    .dataframe tbody tr th:only-of-type {\n",
       "        vertical-align: middle;\n",
       "    }\n",
       "\n",
       "    .dataframe tbody tr th {\n",
       "        vertical-align: top;\n",
       "    }\n",
       "\n",
       "    .dataframe thead th {\n",
       "        text-align: right;\n",
       "    }\n",
       "</style>\n",
       "<table border=\"1\" class=\"dataframe\">\n",
       "  <thead>\n",
       "    <tr style=\"text-align: right;\">\n",
       "      <th></th>\n",
       "      <th>0</th>\n",
       "      <th>1</th>\n",
       "      <th>2</th>\n",
       "      <th>3</th>\n",
       "      <th>4</th>\n",
       "      <th>5</th>\n",
       "      <th>6</th>\n",
       "      <th>7</th>\n",
       "      <th>8</th>\n",
       "      <th>9</th>\n",
       "      <th>...</th>\n",
       "      <th>32</th>\n",
       "      <th>33</th>\n",
       "      <th>34</th>\n",
       "      <th>35</th>\n",
       "      <th>36</th>\n",
       "      <th>37</th>\n",
       "      <th>38</th>\n",
       "      <th>39</th>\n",
       "      <th>40</th>\n",
       "      <th>41</th>\n",
       "    </tr>\n",
       "  </thead>\n",
       "  <tbody>\n",
       "    <tr>\n",
       "      <th>0</th>\n",
       "      <td>Andaman and Nicobar Islands</td>\n",
       "      <td>Nicobars</td>\n",
       "      <td>637</td>\n",
       "      <td>36842.0</td>\n",
       "      <td>20727.0</td>\n",
       "      <td>16115.0</td>\n",
       "      <td>25332.0</td>\n",
       "      <td>15397.0</td>\n",
       "      <td>9935.0</td>\n",
       "      <td>15958.0</td>\n",
       "      <td>...</td>\n",
       "      <td>1075</td>\n",
       "      <td>30</td>\n",
       "      <td>4</td>\n",
       "      <td>27</td>\n",
       "      <td>4</td>\n",
       "      <td>0</td>\n",
       "      <td>3</td>\n",
       "      <td>34</td>\n",
       "      <td>1246</td>\n",
       "      <td>380581</td>\n",
       "    </tr>\n",
       "    <tr>\n",
       "      <th>1</th>\n",
       "      <td>Andaman and Nicobar Islands</td>\n",
       "      <td>North  AND Middle Andaman</td>\n",
       "      <td>638</td>\n",
       "      <td>105597.0</td>\n",
       "      <td>54861.0</td>\n",
       "      <td>50736.0</td>\n",
       "      <td>78683.0</td>\n",
       "      <td>43186.0</td>\n",
       "      <td>35497.0</td>\n",
       "      <td>39091.0</td>\n",
       "      <td>...</td>\n",
       "      <td>1075</td>\n",
       "      <td>30</td>\n",
       "      <td>4</td>\n",
       "      <td>27</td>\n",
       "      <td>4</td>\n",
       "      <td>0</td>\n",
       "      <td>3</td>\n",
       "      <td>34</td>\n",
       "      <td>1246</td>\n",
       "      <td>380581</td>\n",
       "    </tr>\n",
       "    <tr>\n",
       "      <th>2</th>\n",
       "      <td>Andaman and Nicobar Islands</td>\n",
       "      <td>South Andaman</td>\n",
       "      <td>639</td>\n",
       "      <td>238142.0</td>\n",
       "      <td>127283.0</td>\n",
       "      <td>110859.0</td>\n",
       "      <td>190266.0</td>\n",
       "      <td>105794.0</td>\n",
       "      <td>84472.0</td>\n",
       "      <td>34901.0</td>\n",
       "      <td>...</td>\n",
       "      <td>1075</td>\n",
       "      <td>30</td>\n",
       "      <td>4</td>\n",
       "      <td>27</td>\n",
       "      <td>4</td>\n",
       "      <td>0</td>\n",
       "      <td>3</td>\n",
       "      <td>34</td>\n",
       "      <td>1246</td>\n",
       "      <td>380581</td>\n",
       "    </tr>\n",
       "  </tbody>\n",
       "</table>\n",
       "<p>3 rows × 42 columns</p>\n",
       "</div>"
      ],
      "text/plain": [
       "                            0                          1    2         3   \\\n",
       "0  Andaman and Nicobar Islands                   Nicobars  637   36842.0   \n",
       "1  Andaman and Nicobar Islands  North  AND Middle Andaman  638  105597.0   \n",
       "2  Andaman and Nicobar Islands              South Andaman  639  238142.0   \n",
       "\n",
       "         4         5         6         7        8        9   ...    32  33  \\\n",
       "0   20727.0   16115.0   25332.0   15397.0   9935.0  15958.0  ...  1075  30   \n",
       "1   54861.0   50736.0   78683.0   43186.0  35497.0  39091.0  ...  1075  30   \n",
       "2  127283.0  110859.0  190266.0  105794.0  84472.0  34901.0  ...  1075  30   \n",
       "\n",
       "   34  35  36  37 38  39    40      41  \n",
       "0   4  27   4   0  3  34  1246  380581  \n",
       "1   4  27   4   0  3  34  1246  380581  \n",
       "2   4  27   4   0  3  34  1246  380581  \n",
       "\n",
       "[3 rows x 42 columns]"
      ]
     },
     "execution_count": 14,
     "metadata": {},
     "output_type": "execute_result"
    }
   ],
   "source": [
    "data"
   ]
  },
  {
   "cell_type": "code",
   "execution_count": null,
   "id": "b9775c3f",
   "metadata": {},
   "outputs": [],
   "source": []
  }
 ],
 "metadata": {
  "kernelspec": {
   "display_name": "Python 3 (ipykernel)",
   "language": "python",
   "name": "python3"
  },
  "language_info": {
   "codemirror_mode": {
    "name": "ipython",
    "version": 3
   },
   "file_extension": ".py",
   "mimetype": "text/x-python",
   "name": "python",
   "nbconvert_exporter": "python",
   "pygments_lexer": "ipython3",
   "version": "3.11.1"
  }
 },
 "nbformat": 4,
 "nbformat_minor": 5
}
